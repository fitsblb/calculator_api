{
 "cells": [
  {
   "cell_type": "markdown",
   "metadata": {},
   "source": [
    "**Step 1: Define the Requirements**\n",
    "We need an API that performs basic arithmetic operations:\n",
    "- ✅ Addition (/add?num1=5&num2=3) → Returns 8\n",
    "- ✅ Subtraction (/subtract?num1=5&num2=3) → Returns 2\n",
    "- ✅ Multiplication (/multiply?num1=5&num2=3) → Returns 15\n",
    "- ✅ Division (/divide?num1=5&num2=3) → Returns 1.67\n",
    "\n",
    "* Each operation will be a separate endpoint, and the user will pass two numbers as query parameters (num1 and num2).\n",
    "\n",
    "**Step 2: Set Up Flask and API Structure**\n",
    "- ✅ Create a Python script (calculator_api.py).\n",
    "- ✅ Use flask and flask_restful to handle API requests.\n",
    "- ✅ Implement four separate classes (one for each operation).\n",
    "- ✅ Use request.args.get() to fetch user inputs from query parameters.\n",
    "- ✅ Handle errors (e.g., missing numbers, invalid inputs, division by zero).\n",
    "**Step 3: Run and Test the API Locally**\n",
    "- ✅ Start the Flask server (python calculator_api.py).\n",
    "- ✅ Test it in the browser or Postman (http://127.0.0.1:5000/add?num1=5&num2=3).\n",
    "\n",
    "**Step 4: Deploy the API to the Cloud**\n",
    "- ✅ Choose a free cloud hosting service like Render, Railway, or Replit.\n",
    "- ✅ Set up a cloud deployment process.\n",
    "- ✅ Obtain a public URL so others can access the API.\n"
   ]
  },
  {
   "cell_type": "code",
   "execution_count": null,
   "metadata": {},
   "outputs": [],
   "source": []
  }
 ],
 "metadata": {
  "kernelspec": {
   "display_name": "mylhlenv",
   "language": "python",
   "name": "python3"
  },
  "language_info": {
   "name": "python",
   "version": "3.8.20"
  }
 },
 "nbformat": 4,
 "nbformat_minor": 2
}
